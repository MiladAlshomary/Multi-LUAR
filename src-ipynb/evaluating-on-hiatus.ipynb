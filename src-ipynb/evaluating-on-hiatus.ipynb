{
 "cells": [
  {
   "cell_type": "code",
   "execution_count": 1,
   "id": "98add410-2397-4016-a873-968289bfacb4",
   "metadata": {},
   "outputs": [],
   "source": [
    "%load_ext autoreload"
   ]
  },
  {
   "cell_type": "code",
   "execution_count": 119,
   "id": "39967725-2cd2-4da3-8e97-79546fd8626f",
   "metadata": {},
   "outputs": [],
   "source": [
    "%autoreload\n",
    "import sys\n",
    "sys.path.insert(0, '../')"
   ]
  },
  {
   "cell_type": "code",
   "execution_count": 120,
   "id": "e9f92b73-a37d-443b-90ac-e6f131417e1b",
   "metadata": {},
   "outputs": [],
   "source": [
    "from src.utilities.mluar_utils import *"
   ]
  },
  {
   "cell_type": "code",
   "execution_count": 115,
   "id": "68524a3c-6085-46ff-8639-45985108e771",
   "metadata": {},
   "outputs": [],
   "source": [
    "from transformers import AutoModel, AutoTokenizer\n",
    "from datasets import load_dataset, Dataset\n",
    "import numpy as np\n",
    "from einops import rearrange, reduce, repeat\n",
    "import torch\n",
    "from sklearn.metrics.pairwise import cosine_similarity\n",
    "from matplotlib import pyplot as plt\n",
    "import math\n",
    "import pandas as pd\n",
    "from scipy.stats import zscore\n",
    "import pickle as pkl\n",
    "import tabulate\n",
    "import torch.nn.functional as F"
   ]
  },
  {
   "cell_type": "code",
   "execution_count": 116,
   "id": "f5979105-cb91-4941-a198-4cf18e2f5e84",
   "metadata": {},
   "outputs": [],
   "source": [
    "from src.utilities.mluar_utils import *"
   ]
  },
  {
   "cell_type": "code",
   "execution_count": 6,
   "id": "e61abce0-9a44-4819-9999-27578cc60775",
   "metadata": {},
   "outputs": [],
   "source": [
    "MULTI_LUAR_PATH =  \"/mnt/swordfish-pool2/milad/multi-luar-reddit-model/\"\n",
    "LUAR_PATH =  \"/mnt/swordfish-pool2/nikhil/LUAR/pretrained_weights/LUAR-MUD/\""
   ]
  },
  {
   "cell_type": "code",
   "execution_count": 7,
   "id": "abc7098f-1fd3-42e8-bcec-af94d8211d92",
   "metadata": {},
   "outputs": [],
   "source": [
    "# Load models\n",
    "multiluar_model = AutoModel.from_pretrained(MULTI_LUAR_PATH, trust_remote_code=True)\n",
    "luar_model = AutoModel.from_pretrained(LUAR_PATH, trust_remote_code=True)\n",
    "tokenizer = AutoTokenizer.from_pretrained(\"rrivera1849/LUAR-MUD\")"
   ]
  },
  {
   "cell_type": "code",
   "execution_count": 8,
   "id": "cff01ec9-1b79-494c-864e-7d8052a14792",
   "metadata": {},
   "outputs": [],
   "source": [
    "data_path = '/mnt/swordfish-pool2/milad/hiatus-data/phase_2'"
   ]
  },
  {
   "cell_type": "code",
   "execution_count": 121,
   "id": "6cbbd0b3-72fd-4dd7-bd91-63eb414c3bbb",
   "metadata": {
    "scrolled": true
   },
   "outputs": [],
   "source": [
    "# sents = [\"\"\"nots\\n\\nWatched as part of The Tara Reid Mission\\n\\nThe Film\\nThere's a moment in Knots where <PERSON> character tells his friend that his prolific cheating on his girlfriend is okay because a) Her work takes her away a lot, and b) Sex with other women further solidifies his feeling that his girlfriend is 'the one' and that the sex with her after he's cheated is brilliant. It's this kind of mean spiritedness that defines the film, from the characters to the situations they create for themselves.\\n\\nSupposedly a comedy from the male perspective, very few of the characters ring true. The men themselves are hapless, bumbling idiots, so sure of their masculinity that they are unable to accept their (many) flaws, whilst the women are either screaming harpies, dumb conquests or manipulative ice maidens.\\n\\nIt's not all bad though. There are a few genuinely amusing moments, and <PERSON>, who is the one genuinely nice guy, does well with what little the script gives him.\\n\\nIf this is what modern relationships are like, count me out.\\n\\nHow's <PERSON>?\\nNot appearing until around the 42 minute mark, <PERSON>'s <PERSON> was the only other character I didn't destest. The scenes with her and <PERSON>'s <PERSON> are sweet, and it was nice seeing their relationship blossom, although more time is spent with the other, more hateful characters. <PERSON>'s well documented of screen partying seems to have taken it's toll though, as she sounds like she's smoked a pack of cigarettes every time she opens her mouth.\"\"\", \"\"\"nots\\n\\nWatched as part of The Tara Reid Mission\\n\\nThe Film\\nThere's a moment in Knots where <PERSON> character tells his friend that his prolific cheating on his girlfriend is okay because a) Her work takes her away a lot, and b) Sex with other women further solidifies his feeling that his girlfriend is 'the one' and that the sex with her after he's cheated is brilliant. It's this kind of mean spiritedness that defines the film, from the characters to the situations they create for themselves.\\n\\nSupposedly a comedy from the male perspective, very few of the characters ring true. The men themselves are hapless, bumbling idiots, so sure of their masculinity that they are unable to accept their (many) flaws, whilst the women are either screaming harpies, dumb conquests or manipulative ice maidens.\\n\\nIt's not all bad though. There are a few genuinely amusing moments, and <PERSON>, who is the one genuinely nice guy, does well with what little the script gives him.\\n\\nIf this is what modern relationships are like, count me out.\\n\\nHow's <PERSON>?\\nNot appearing until around the 42 minute mark, <PERSON>'s <PERSON> was the only other character I didn't destest. The scenes with her and <PERSON>'s <PERSON> are sweet, and it was nice seeing their relationship blossom, although more time is spent with the other, more hateful characters. <PERSON>'s well documented of screen partying seems to have taken it's toll though, as she sounds like she's smoked\"\"\"]\n",
    "# embed, tokenized_txt = get_luar_embeddings(sents, luar_model, tokenizer, max_length=512, batch_size=2)\n",
    "# tokenized_txt['input_ids'].shape"
   ]
  },
  {
   "cell_type": "code",
   "execution_count": 125,
   "id": "0a2dc96a-a934-4609-a704-3b91aa8d4036",
   "metadata": {},
   "outputs": [
    {
     "name": "stdout",
     "output_type": "stream",
     "text": [
      "Loading:  /mnt/swordfish-pool2/milad/hiatus-data/phase_2/mode_perGenre-HRS2.1/TA2/hrs_06-27-24_english_perGenre-HRS2.1/data/hrs_06-27-24_english_perGenre-HRS2.1_TA2_input\n"
     ]
    }
   ],
   "source": [
    "data_embeddings = {}\n",
    "max_seq_length = 736\n",
    "domain_path_temp = data_path + '/mode_perGenre-{}/TA2/hrs_06-27-24_english_perGenre-{}/{}/hrs_06-27-24_english_perGenre-{}_TA2'\n",
    "\n",
    "for domain in ['HRS2.1', 'HRS2.2', 'HRS2.3', 'HRS2.4']:\n",
    "    # Load data\n",
    "    domain_data_path = domain_path_temp.format(domain, domain, 'data', domain) + '_input'\n",
    "    domain_groundtruth_path = domain_path_temp.format(domain, domain, 'groundtruth', domain) \n",
    "    hiatus_data, _, _ = load_aa_data(domain_data_path, domain_groundtruth_path)\n",
    "\n",
    "    # keep authors with only more than one text\n",
    "    authors_with_multiple_texts = [x[0] for x in hiatus_data.authorID.value_counts().to_dict().items() if x[1] > 1]\n",
    "    hiatus_data = hiatus_data[hiatus_data.authorID.isin(authors_with_multiple_texts)]\n",
    "\n",
    "    # Embed data using m-luar and luar\n",
    "    hiatus_data_texts = hiatus_data.fullText.tolist()\n",
    "    hiatus_mluar_data_embeddings,_ = get_luar_embeddings(hiatus_data_texts, multiluar_model, tokenizer, max_length=max_seq_length, batch_size=1, is_multi_luar=True)\n",
    "    hiatus_luar_data_embeddings,_  = get_luar_embeddings(hiatus_data_texts, luar_model, tokenizer, max_length=max_seq_length, batch_size=1)\n",
    "    hiatus_luar_data_embeddings    = [e.unsqueeze(0) for e in hiatus_luar_data_embeddings]\n",
    "    \n",
    "    data_embeddings[domain] = {'LUAR': hiatus_luar_data_embeddings, 'MLUAR': hiatus_mluar_data_embeddings}\n",
    "    break"
   ]
  },
  {
   "cell_type": "code",
   "execution_count": 126,
   "id": "76f31946-9e3b-432b-8081-ef34057b421c",
   "metadata": {},
   "outputs": [
    {
     "data": {
      "text/plain": [
       "dict_keys(['HRS2.1'])"
      ]
     },
     "execution_count": 126,
     "metadata": {},
     "output_type": "execute_result"
    }
   ],
   "source": [
    "data_embeddings.keys()"
   ]
  },
  {
   "cell_type": "code",
   "execution_count": 14,
   "id": "dd903d1a-6ac7-438c-8270-adb87648e072",
   "metadata": {},
   "outputs": [],
   "source": [
    "pkl.dump(data_embeddings, open('./hiatus_data_embedded.pkl', 'wb'))"
   ]
  },
  {
   "cell_type": "code",
   "execution_count": 135,
   "id": "504971d4-5580-4836-b06b-26404421660d",
   "metadata": {
    "scrolled": true
   },
   "outputs": [
    {
     "name": "stdout",
     "output_type": "stream",
     "text": [
      "Loading:  /mnt/swordfish-pool2/milad/hiatus-data/phase_2/mode_perGenre-HRS2.1/TA2/hrs_06-27-24_english_perGenre-HRS2.1/data/hrs_06-27-24_english_perGenre-HRS2.1_TA2_input\n",
      "[1, 2, 3, 4, 5, 6]\n",
      "[0, 2, 3, 4, 5, 6]\n",
      "[0, 1, 3, 4, 5, 6]\n",
      "[0, 1, 2, 4, 5, 6]\n",
      "[0, 1, 2, 3, 5, 6]\n",
      "[0, 1, 2, 3, 4, 6]\n",
      "[0, 1, 2, 3, 4, 5]\n"
     ]
    }
   ],
   "source": [
    "results = []\n",
    "for domain in ['HRS2.1', 'HRS2.2', 'HRS2.3', 'HRS2.4']:\n",
    "\n",
    "    # Load data\n",
    "    domain_data_path = domain_path_temp.format(domain, domain, 'data', domain) + '_input'\n",
    "    domain_groundtruth_path = domain_path_temp.format(domain, domain, 'groundtruth', domain) \n",
    "    hiatus_data, _, _ = load_aa_data(domain_data_path, domain_groundtruth_path)\n",
    "    # keep authors with only more than one text\n",
    "    authors_with_multiple_texts = [x[0] for x in hiatus_data.authorID.value_counts().to_dict().items() if x[1] > 1]\n",
    "    hiatus_data = hiatus_data[hiatus_data.authorID.isin(authors_with_multiple_texts)]\n",
    "    \n",
    "    labels = hiatus_data.authorID.tolist()\n",
    "\n",
    "    #Load embeddings from the saved dictionary\n",
    "    hiatus_mluar_data_embeddings = data_embeddings[domain]['MLUAR']\n",
    "    hiatus_luar_data_embeddings  = data_embeddings[domain]['LUAR']\n",
    "\n",
    "    luar_sims = compute_similarities(hiatus_luar_data_embeddings, hiatus_luar_data_embeddings)\n",
    "    labels_matrix = np.array([[int(x == y) for y in labels] for x in labels])\n",
    "    luar_eer, luar_mrr   = eer(luar_sims, labels_matrix), compute_mrr(luar_sims, labels)\n",
    "\n",
    "    results.append(['LUAR', domain, luar_eer, luar_mrr])\n",
    "    results.append(['+++', '+++', '+++', '+++'])\n",
    "\n",
    "    muti_luar_layers_sims = np.stack([compute_similarities(hiatus_mluar_data_embeddings, hiatus_mluar_data_embeddings, layer=i) for i in range(7)])\n",
    "    \n",
    "    muti_luar_layers_sims_ablated = np.mean(muti_luar_layers_sims, 0)\n",
    "    mluar_eer, mluar_mrr = eer(muti_luar_layers_sims_ablated, labels_matrix), compute_mrr(muti_luar_layers_sims_ablated, labels)\n",
    "    results.append(['MLUAR', domain, mluar_eer, mluar_mrr])\n",
    "    results.append(['--', '--', '--', '--'])\n",
    "\n",
    "    # Ablation study\n",
    "    for layer in range(7):\n",
    "        selector = [i for i in range(muti_luar_layers_sims.shape[0]) if i != layer]\n",
    "        print(selector)\n",
    "        muti_luar_layers_sims_ablated = np.mean(muti_luar_layers_sims[selector, :, :], 0)\n",
    "        mluar_eer, mluar_mrr = eer(muti_luar_layers_sims_ablated, labels_matrix), compute_mrr(muti_luar_layers_sims_ablated, labels)\n",
    "        results.append(['MLUAR/{}'.format(layer), domain, mluar_eer, mluar_mrr])\n",
    "        results.append(['--', '--', '--', '--'])\n",
    "        \n",
    "    break"
   ]
  },
  {
   "cell_type": "code",
   "execution_count": 137,
   "id": "29eea14e-c98d-4329-b497-12fc19a4ffcd",
   "metadata": {},
   "outputs": [
    {
     "name": "stdout",
     "output_type": "stream",
     "text": [
      "         Domain    EER    MRR\n",
      "-------  --------  -----  -----\n",
      "LUAR     HRS2.1    0.158  0.199\n",
      "+++      +++       +++    +++\n",
      "MLUAR    HRS2.1    0.27   0.159\n",
      "--       --        --     --\n",
      "MLUAR/0  HRS2.1    0.237  0.166\n",
      "--       --        --     --\n",
      "MLUAR/1  HRS2.1    0.268  0.16\n",
      "--       --        --     --\n",
      "MLUAR/2  HRS2.1    0.269  0.16\n",
      "--       --        --     --\n",
      "MLUAR/3  HRS2.1    0.267  0.16\n",
      "--       --        --     --\n",
      "MLUAR/4  HRS2.1    0.264  0.16\n",
      "--       --        --     --\n",
      "MLUAR/5  HRS2.1    0.271  0.158\n",
      "--       --        --     --\n",
      "MLUAR/6  HRS2.1    0.323  0.142\n",
      "--       --        --     --\n"
     ]
    }
   ],
   "source": [
    "print(tabulate.tabulate(results, headers=['Domain', 'EER', 'MRR']))"
   ]
  },
  {
   "cell_type": "code",
   "execution_count": null,
   "id": "22bdb86b-71e8-4cf9-b39e-672439e9e172",
   "metadata": {},
   "outputs": [],
   "source": []
  }
 ],
 "metadata": {
  "kernelspec": {
   "display_name": "Python 3 (ipykernel)",
   "language": "python",
   "name": "python3"
  },
  "language_info": {
   "codemirror_mode": {
    "name": "ipython",
    "version": 3
   },
   "file_extension": ".py",
   "mimetype": "text/x-python",
   "name": "python",
   "nbconvert_exporter": "python",
   "pygments_lexer": "ipython3",
   "version": "3.13.1"
  }
 },
 "nbformat": 4,
 "nbformat_minor": 5
}
