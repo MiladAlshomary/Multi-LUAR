{
 "cells": [
  {
   "cell_type": "code",
   "execution_count": 1,
   "id": "98add410-2397-4016-a873-968289bfacb4",
   "metadata": {},
   "outputs": [],
   "source": [
    "%load_ext autoreload"
   ]
  },
  {
   "cell_type": "code",
   "execution_count": 2,
   "id": "39967725-2cd2-4da3-8e97-79546fd8626f",
   "metadata": {},
   "outputs": [],
   "source": [
    "%autoreload\n",
    "import sys\n",
    "sys.path.insert(0, '../')"
   ]
  },
  {
   "cell_type": "code",
   "execution_count": 3,
   "id": "e9f92b73-a37d-443b-90ac-e6f131417e1b",
   "metadata": {},
   "outputs": [
    {
     "name": "stderr",
     "output_type": "stream",
     "text": [
      "/mnt/swordfish-pool2/milad/conda-envs/huggingface-tlr/lib/python3.13/site-packages/tqdm/auto.py:21: TqdmWarning: IProgress not found. Please update jupyter and ipywidgets. See https://ipywidgets.readthedocs.io/en/stable/user_install.html\n",
      "  from .autonotebook import tqdm as notebook_tqdm\n"
     ]
    }
   ],
   "source": [
    "from src.utilities.mluar_utils import *"
   ]
  },
  {
   "cell_type": "code",
   "execution_count": 4,
   "id": "68524a3c-6085-46ff-8639-45985108e771",
   "metadata": {},
   "outputs": [],
   "source": [
    "from transformers import AutoModel, AutoTokenizer\n",
    "from datasets import load_dataset, Dataset\n",
    "import numpy as np\n",
    "from einops import rearrange, reduce, repeat\n",
    "import torch\n",
    "from sklearn.metrics.pairwise import cosine_similarity\n",
    "from matplotlib import pyplot as plt\n",
    "import math\n",
    "import pandas as pd"
   ]
  },
  {
   "cell_type": "code",
   "execution_count": 5,
   "id": "374022e7-2fd6-4c8b-aca2-4b33fb6fc025",
   "metadata": {
    "scrolled": true
   },
   "outputs": [],
   "source": [
    "xslu_taxonomy_df = pd.read_pickle('/mnt/swordfish-pool2/milad/hiatus-data/xslue-style-documents-n_samples=100.pkl')"
   ]
  },
  {
   "cell_type": "code",
   "execution_count": 6,
   "id": "030de04d-a26a-4e1c-87b4-1379a33c9c65",
   "metadata": {},
   "outputs": [],
   "source": [
    "MULTI_LUAR_PATH =  \"/mnt/swordfish-pool2/milad/multi-luar-reddit-model/\"\n",
    "LUAR_PATH =  \"/mnt/swordfish-pool2/nikhil/LUAR/pretrained_weights/LUAR-MUD/\""
   ]
  },
  {
   "cell_type": "code",
   "execution_count": 7,
   "id": "ec53f440-f24e-436d-9cb5-35d624303273",
   "metadata": {},
   "outputs": [],
   "source": [
    "analyzed_labels = [\n",
    "    'Formal / Informal',\n",
    "    'Active / Passive',\n",
    "    #'Fluent sentence / Disfluent sentence',\n",
    "    #'With Humor / Without Humor',\n",
    "    #'Present-focused / Past-focused',\n",
    "    #'Self-focused / Inclusive-focused',\n",
    "    # 'With frequent punctuation / Less Frequent punctuation',\n",
    "    'Offensive / Non-Offensive',\n",
    "    #'With metaphor / Without metaphor',\n",
    "    #'Positive / Negative',\n",
    "]"
   ]
  },
  {
   "cell_type": "code",
   "execution_count": 8,
   "id": "abc7098f-1fd3-42e8-bcec-af94d8211d92",
   "metadata": {},
   "outputs": [],
   "source": [
    "# Load models\n",
    "multiluar_model = AutoModel.from_pretrained(MULTI_LUAR_PATH, trust_remote_code=True)\n",
    "luar_model = AutoModel.from_pretrained(LUAR_PATH, trust_remote_code=True)\n",
    "tokenizer = AutoTokenizer.from_pretrained(\"rrivera1849/LUAR-MUD\")"
   ]
  },
  {
   "cell_type": "code",
   "execution_count": 9,
   "id": "bd27f1c8-dec3-47a9-b6af-b8957ca4f3c4",
   "metadata": {
    "scrolled": true
   },
   "outputs": [
    {
     "name": "stderr",
     "output_type": "stream",
     "text": [
      "Filter: 100%|████████████████████████████████████████████████████████████| 3600/3600 [00:00<00:00, 8066.92 examples/s]\n",
      "Filter: 100%|██████████████████████████████████████████████████████████████| 270/270 [00:00<00:00, 1079.31 examples/s]\n",
      "Filter: 100%|██████████████████████████████████████████████████████████████| 270/270 [00:00<00:00, 2305.40 examples/s]\n",
      "Filter: 100%|██████████████████████████████████████████████████████████████| 270/270 [00:00<00:00, 2529.47 examples/s]\n"
     ]
    }
   ],
   "source": [
    "# Load data\n",
    "style_distance_dataset = load_dataset('StyleDistance/synthstel')\n",
    "# Create author for each style feature\n",
    "author_lvl_style_dataset= merge_texts_to_authors_per_label(style_distance_dataset['train'].filter(lambda row: row['feature'] in analyzed_labels), 25)"
   ]
  },
  {
   "cell_type": "code",
   "execution_count": 10,
   "id": "b981a645-d0cf-40ba-a551-db7e1a8c62df",
   "metadata": {},
   "outputs": [
    {
     "data": {
      "text/plain": [
       "np.int64(74)"
      ]
     },
     "execution_count": 10,
     "metadata": {},
     "output_type": "execute_result"
    }
   ],
   "source": [
    "np.max([len(x.split()) for x in author_lvl_style_dataset['positive']])"
   ]
  },
  {
   "cell_type": "code",
   "execution_count": 11,
   "id": "e57b57d0-dce9-40b5-a8f5-f28050739b1c",
   "metadata": {
    "scrolled": true
   },
   "outputs": [],
   "source": [
    "max_seq_length = 96 # longest sequence is 320\n",
    "# Get embeddings from multi-luar\n",
    "positives_embeddings = get_luar_embeddings(author_lvl_style_dataset['positive'], multiluar_model, tokenizer, max_length=max_seq_length, batch_size=5, is_multi_luar=True)\n",
    "negatives_embeddings = get_luar_embeddings(author_lvl_style_dataset['negative'], multiluar_model, tokenizer, max_length=max_seq_length, batch_size=5, is_multi_luar=True)\n",
    "labels = author_lvl_style_dataset['feature']\n",
    "\n",
    "# Get embeddings from Luar\n",
    "positives_luar_embeddings = get_luar_embeddings(author_lvl_style_dataset['positive'], luar_model, tokenizer, max_length=max_seq_length, batch_size=5)\n",
    "negatives_luar_embeddings = get_luar_embeddings(author_lvl_style_dataset['negative'], luar_model, tokenizer, max_length=max_seq_length, batch_size=5)\n",
    "positives_luar_embeddings = [e.unsqueeze(0) for e in positives_luar_embeddings]\n",
    "negatives_luar_embeddings = [e.unsqueeze(0) for e in negatives_luar_embeddings]"
   ]
  },
  {
   "cell_type": "code",
   "execution_count": 12,
   "id": "8af852c3-b91c-402b-85cf-148f25e82c0a",
   "metadata": {},
   "outputs": [],
   "source": [
    "# Just put all sentences together \n",
    "all_embeddings = positives_embeddings + negatives_embeddings\n",
    "all_labels  = [x.split('/')[0] for x in labels] + [x.split('/')[1] for x in labels]"
   ]
  },
  {
   "cell_type": "code",
   "execution_count": 13,
   "id": "e4854168-f71c-4a95-a4a0-8a57292ccb03",
   "metadata": {},
   "outputs": [],
   "source": [
    "# Compute distance and cosine similarities\n",
    "\n",
    "# Compute Multi-luar similarity matrices at every layer and average of the layers\n",
    "muti_luar_layers_sims = [compute_similarities(positives_embeddings, negatives_embeddings, layer=i) for i in range(7)]\n",
    "muti_luar_layers_sims.append(compute_similarities(positives_embeddings, negatives_embeddings, layer=None))\n",
    "\n",
    "# Compute Luar similarity matrices (only final layer)\n",
    "luar_sim_matrix = compute_similarities(positives_embeddings, negatives_embeddings, layer=None)\n",
    "\n",
    "muti_luar_layers_dist = [compute_distances(positives_embeddings, negatives_embeddings, layer=i) for i in range(7)]\n",
    "muti_luar_layers_dist.append(compute_distances(positives_embeddings, negatives_embeddings, layer=None))"
   ]
  },
  {
   "cell_type": "code",
   "execution_count": 93,
   "id": "ac157fa8-3b08-4816-9356-7ec32ff960bb",
   "metadata": {
    "scrolled": true
   },
   "outputs": [
    {
     "data": {
      "text/plain": [
       "np.float64(0.455)"
      ]
     },
     "execution_count": 93,
     "metadata": {},
     "output_type": "execute_result"
    }
   ],
   "source": [
    "compute_mrr(luar_sim_matrix, all_labels)"
   ]
  },
  {
   "cell_type": "code",
   "execution_count": 94,
   "id": "68d03938-eede-49ef-8c32-3b37924cb5dd",
   "metadata": {},
   "outputs": [
    {
     "data": {
      "text/plain": [
       "[np.float64(0.426),\n",
       " np.float64(0.449),\n",
       " np.float64(0.421),\n",
       " np.float64(0.465),\n",
       " np.float64(0.467),\n",
       " np.float64(0.442),\n",
       " np.float64(0.469),\n",
       " np.float64(0.455)]"
      ]
     },
     "execution_count": 94,
     "metadata": {},
     "output_type": "execute_result"
    }
   ],
   "source": [
    "[compute_mrr(s, all_labels) for s in muti_luar_layers_sims]"
   ]
  },
  {
   "cell_type": "code",
   "execution_count": 14,
   "id": "4eff911c-00b6-47fc-b070-1695c9d25e9a",
   "metadata": {
    "scrolled": true
   },
   "outputs": [],
   "source": [
    "# def compute_layer_to_features_significance(muti_luar_layers_sims, labels):\n",
    "#     layer_to_feat_score = []\n",
    "#     unique_labels = set(labels)\n",
    "#     for label in unique_labels:\n",
    "#         label_indices = np.where(np.array(labels) == label)[0]\n",
    "#         other_labels_indices = np.where(np.array(labels) != label)[0]\n",
    "#         #print(label_indices)\n",
    "#         label_sims = []\n",
    "#         for layer in range(7):\n",
    "#             muti_luar_layer_sim = muti_luar_layers_sims[layer]\n",
    "#             label_matrix = np.take(muti_luar_layer_sim, label_indices, axis=0)\n",
    "#             label_matrix = np.take(label_matrix, label_indices, axis=1)\n",
    "\n",
    "#             other_labels_matrix = np.take(muti_luar_layer_sim, other_labels_indices, axis=0)\n",
    "#             other_labels_matrix = np.take(other_labels_matrix, other_labels_indices, axis=1)\n",
    "            \n",
    "#             #print(label_matrix)\n",
    "#             label_sims.append(round(float(np.mean(label_matrix)/np.mean(other_labels_matrix)), 2))\n",
    "#             #label_sims.append(round(float(np.mean(label_matrix)), 2))\n",
    "#         layer_to_feat_score.append(label_sims)\n",
    "#     return layer_to_feat_score\n",
    "\n",
    "def compute_layer_to_features_significance(muti_luar_layers_sims, labels):\n",
    "    layer_to_feat_score = []\n",
    "    unique_labels = set(labels)\n",
    "    for layer in range(7):\n",
    "        label_sims = []\n",
    "        for label in unique_labels:\n",
    "            label_matrix = np.take(muti_luar_layers_sims[layer], np.where(np.array(labels) == label)[0], axis=0)\n",
    "            label_matrix = np.take(muti_luar_layers_sims[layer], np.where(np.array(labels) == label)[0], axis=1)\n",
    "            label_sims.append(np.mean(label_matrix))\n",
    "\n",
    "            \n",
    "        layer_to_feat_score.append([round(float(x)/np.mean(label_sims), 3) for x in label_sims])\n",
    "\n",
    "    return np.array(layer_to_feat_score).transpose()"
   ]
  },
  {
   "cell_type": "code",
   "execution_count": 15,
   "id": "15e693c1-103a-4af4-ba7e-552d06c9948b",
   "metadata": {},
   "outputs": [
    {
     "data": {
      "image/png": "[encoded data removed]",
      "text/plain": [
       "<Figure size 600x1200 with 1 Axes>"
      ]
     },
     "metadata": {},
     "output_type": "display_data"
    }
   ],
   "source": [
    "layer_to_feat_score = compute_layer_to_features_significance(muti_luar_layers_dist, labels)\n",
    "fig, ax = plt.subplots(figsize=(6,12))\n",
    "ax.imshow(layer_to_feat_score)\n",
    "ax.set(yticks = range(len(set(labels))), yticklabels=set(labels))\n",
    "plt.show()"
   ]
  },
  {
   "cell_type": "code",
   "execution_count": 97,
   "id": "6747f3e3-2b48-4427-b3d5-591b5570fbc2",
   "metadata": {},
   "outputs": [
    {
     "data": {
      "text/plain": [
       "array([[0.998, 0.997, 1.011, 1.009, 1.006, 1.001, 0.99 ],\n",
       "       [1.002, 1.003, 0.989, 0.991, 0.994, 0.999, 1.01 ]], dtype=float32)"
      ]
     },
     "execution_count": 97,
     "metadata": {},
     "output_type": "execute_result"
    }
   ],
   "source": [
    "layer_to_feat_score"
   ]
  },
  {
   "cell_type": "markdown",
   "id": "11fafcf9-788b-45a1-a320-8cf584518590",
   "metadata": {},
   "source": [
    "### Clustering"
   ]
  },
  {
   "cell_type": "code",
   "execution_count": 16,
   "id": "11ca7591-7712-487e-9e25-7548da4cd643",
   "metadata": {},
   "outputs": [],
   "source": [
    "from sklearn.manifold import TSNE\n",
    "\n",
    "def get_cmap(n, name='Accent'):\n",
    "    '''Returns a function that maps each index in 0, 1, ..., n-1 to a distinct \n",
    "    RGB color; the keyword argument name must be a standard mpl colormap name.'''\n",
    "    return plt.cm.get_cmap(name, n)\n",
    "\n",
    "def plot_tsne(embeddings, labels, layer):\n",
    "    fig, ax = plt.subplots(figsize=(6,3))\n",
    "    X =  np.array([elem.numpy() for elem in embeddings])\n",
    "    X = X[:, layer, :]\n",
    "    \n",
    "    X_embedded = TSNE(n_components=2, learning_rate='auto',\n",
    "                      init='pca', random_state=123, metric='cosine').fit_transform(X)\n",
    "    x = X_embedded[:,0]\n",
    "    y = X_embedded[:,1]\n",
    "    \n",
    "    \n",
    "    label_set = list(set(labels))\n",
    "    color_map = get_cmap(len(label_set))\n",
    "    label_set_colors = {x: color_map(i) for i, x in enumerate(label_set)}\n",
    "    label_colors = [label_set_colors[label] for label in labels]\n",
    "\n",
    "    for i, label in enumerate(label_set):\n",
    "        label_indices = np.where(np.array(labels) == label)[0]\n",
    "        sc = plt.scatter(x[label_indices], y[label_indices], color=label_set_colors[label], label=label)\n",
    "        \n",
    "    plt.legend(bbox_to_anchor=(1.05, 1), loc='upper left')\n",
    "    plt.show()"
   ]
  },
  {
   "cell_type": "code",
   "execution_count": 20,
   "id": "5f8d5c98-b82e-4e59-b804-f851f0a93207",
   "metadata": {},
   "outputs": [
    {
     "name": "stderr",
     "output_type": "stream",
     "text": [
      "/tmp/ipykernel_3961066/19340659.py:6: MatplotlibDeprecationWarning: The get_cmap function was deprecated in Matplotlib 3.7 and will be removed in 3.11. Use ``matplotlib.colormaps[name]`` or ``matplotlib.colormaps.get_cmap()`` or ``pyplot.get_cmap()`` instead.\n",
      "  return plt.cm.get_cmap(name, n)\n"
     ]
    },
    {
     "data": {
      "image/png": "[encoded data removed]",
      "text/plain": [
       "<Figure size 600x300 with 1 Axes>"
      ]
     },
     "metadata": {},
     "output_type": "display_data"
    }
   ],
   "source": [
    "plot_tsne(positives_embeddings + negatives_embeddings, labels + ['neg-' + x for x in labels], layer=6)"
   ]
  },
  {
   "cell_type": "code",
   "execution_count": null,
   "id": "eac7c3e9-9f7d-45dc-a777-1a25d423d4b0",
   "metadata": {},
   "outputs": [],
   "source": []
  }
 ],
 "metadata": {
  "kernelspec": {
   "display_name": "Python 3 (ipykernel)",
   "language": "python",
   "name": "python3"
  },
  "language_info": {
   "codemirror_mode": {
    "name": "ipython",
    "version": 3
   },
   "file_extension": ".py",
   "mimetype": "text/x-python",
   "name": "python",
   "nbconvert_exporter": "python",
   "pygments_lexer": "ipython3",
   "version": "3.13.1"
  }
 },
 "nbformat": 4,
 "nbformat_minor": 5
}
