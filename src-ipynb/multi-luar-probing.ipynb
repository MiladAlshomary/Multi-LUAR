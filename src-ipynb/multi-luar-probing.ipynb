{
 "cells": [
  {
   "cell_type": "code",
   "execution_count": 1,
   "id": "98add410-2397-4016-a873-968289bfacb4",
   "metadata": {},
   "outputs": [],
   "source": [
    "%load_ext autoreload"
   ]
  },
  {
   "cell_type": "code",
   "execution_count": 2,
   "id": "39967725-2cd2-4da3-8e97-79546fd8626f",
   "metadata": {},
   "outputs": [],
   "source": [
    "%autoreload\n",
    "import sys\n",
    "sys.path.insert(0, '../')\n",
    "sys.path.insert(0, '../../holmes-evaluation/src/')"
   ]
  },
  {
   "cell_type": "code",
   "execution_count": 3,
   "id": "e9f92b73-a37d-443b-90ac-e6f131417e1b",
   "metadata": {},
   "outputs": [
    {
     "name": "stderr",
     "output_type": "stream",
     "text": [
      "/mnt/swordfish-pool2/milad/conda-envs/huggingface-tlr/lib/python3.13/site-packages/tqdm/auto.py:21: TqdmWarning: IProgress not found. Please update jupyter and ipywidgets. See https://ipywidgets.readthedocs.io/en/stable/user_install.html\n",
      "  from .autonotebook import tqdm as notebook_tqdm\n"
     ]
    }
   ],
   "source": [
    "from src.utilities.mluar_utils import *"
   ]
  },
  {
   "cell_type": "code",
   "execution_count": 4,
   "id": "68524a3c-6085-46ff-8639-45985108e771",
   "metadata": {},
   "outputs": [],
   "source": [
    "from transformers import AutoModel, AutoTokenizer\n",
    "from datasets import load_dataset, Dataset\n",
    "import numpy as np\n",
    "from einops import rearrange, reduce, repeat\n",
    "import torch\n",
    "from sklearn.metrics.pairwise import cosine_similarity\n",
    "from matplotlib import pyplot as plt\n",
    "import math"
   ]
  },
  {
   "cell_type": "code",
   "execution_count": 5,
   "id": "030de04d-a26a-4e1c-87b4-1379a33c9c65",
   "metadata": {},
   "outputs": [],
   "source": [
    "MULTI_LUAR_PATH =  \"/mnt/swordfish-pool2/milad/multi-luar-reddit-model/\"\n",
    "LUAR_PATH =  \"/mnt/swordfish-pool2/nikhil/LUAR/pretrained_weights/LUAR-MUD/\""
   ]
  },
  {
   "cell_type": "code",
   "execution_count": 6,
   "id": "edcdcaa4-cec2-4994-ba2e-85903edf50f7",
   "metadata": {},
   "outputs": [],
   "source": [
    "from sentence_transformers.models import Transformer\n",
    "from model.ParallelSentenceTransformer import ParallelSentenceTransformer\n",
    "from utils.SpecificLayerPooling import MultiLUARsPooling"
   ]
  },
  {
   "cell_type": "code",
   "execution_count": 7,
   "id": "9c8624b2-4752-4e78-9c89-f9b7101c2f9f",
   "metadata": {
    "scrolled": true
   },
   "outputs": [],
   "source": [
    "transformer = Transformer(MULTI_LUAR_PATH, model_args={'trust_remote_code':True}, config_args={'sentence_transformer_support':True, \n",
    "                                                                                               'trust_remote_code':True,\n",
    "                                                                                               'output_hidden_states':True})\n",
    "base_model = ParallelSentenceTransformer(modules=[transformer, MultiLUARsPooling(word_embedding_dimension=transformer.get_word_embedding_dimension(), layers=[0])])\n",
    "base_model = base_model.to('cuda')"
   ]
  },
  {
   "cell_type": "code",
   "execution_count": 8,
   "id": "26b2faff-1c4b-45ad-b131-db6abc537074",
   "metadata": {
    "scrolled": true
   },
   "outputs": [
    {
     "name": "stderr",
     "output_type": "stream",
     "text": [
      "Batches: 100%|██████████████████████████████████████████████████████████████████████████| 1/1 [00:00<00:00,  2.32it/s]\n"
     ]
    }
   ],
   "source": [
    "res = base_model.encode(\n",
    "    sentences=['hi mister', 'glad to see you'], show_progress_bar=True, batch_size=4,\n",
    "    output_value='sentence_layer_embeddings', convert_to_numpy=True, device='cuda'\n",
    ")"
   ]
  },
  {
   "cell_type": "code",
   "execution_count": 9,
   "id": "49b193eb-1fd1-4eb1-9f02-fe0c2cd0cf29",
   "metadata": {},
   "outputs": [
    {
     "data": {
      "text/plain": [
       "(2, 512)"
      ]
     },
     "execution_count": 9,
     "metadata": {},
     "output_type": "execute_result"
    }
   ],
   "source": [
    "res[0].shape"
   ]
  },
  {
   "cell_type": "code",
   "execution_count": null,
   "id": "057dd68f-649a-497c-ae95-d2d16c5bd5b2",
   "metadata": {},
   "outputs": [],
   "source": []
  }
 ],
 "metadata": {
  "kernelspec": {
   "display_name": "Python 3 (ipykernel)",
   "language": "python",
   "name": "python3"
  },
  "language_info": {
   "codemirror_mode": {
    "name": "ipython",
    "version": 3
   },
   "file_extension": ".py",
   "mimetype": "text/x-python",
   "name": "python",
   "nbconvert_exporter": "python",
   "pygments_lexer": "ipython3",
   "version": "3.13.1"
  }
 },
 "nbformat": 4,
 "nbformat_minor": 5
}
